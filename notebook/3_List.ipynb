{
 "cells": [
  {
   "cell_type": "markdown",
   "id": "80794060-342a-403a-9b18-3722bf4f1d3a",
   "metadata": {},
   "source": [
    "# リストの動作確認"
   ]
  },
  {
   "cell_type": "code",
   "execution_count": 1,
   "id": "166272c0-e958-4eca-8880-f4bd03bf9faa",
   "metadata": {},
   "outputs": [
    {
     "data": {
      "text/plain": [
       "[1, 2, 3]"
      ]
     },
     "execution_count": 1,
     "metadata": {},
     "output_type": "execute_result"
    }
   ],
   "source": [
    "# リストを定義\n",
    "a = [1, 2, 3]\n",
    "a"
   ]
  },
  {
   "cell_type": "markdown",
   "id": "15dd02b7-8361-454a-88cc-815bdac1d7ec",
   "metadata": {},
   "source": [
    "## 長さの確認\n",
    "len関数で行います"
   ]
  },
  {
   "cell_type": "code",
   "execution_count": 2,
   "id": "02c611c4-d91a-456d-ae73-c23aa7c46d64",
   "metadata": {},
   "outputs": [
    {
     "data": {
      "text/plain": [
       "3"
      ]
     },
     "execution_count": 2,
     "metadata": {},
     "output_type": "execute_result"
    }
   ],
   "source": [
    "len(a)"
   ]
  },
  {
   "cell_type": "markdown",
   "id": "028afb6b-26ab-4746-9b95-714404abb2b6",
   "metadata": {},
   "source": [
    "## リストへの追加\n",
    "appendと+の２通りある\n",
    "- どちらも末尾に追加する\n",
    "- appendは追加する要素を渡す\n",
    "- +は追加というか、リストの結合なので、リストを渡す"
   ]
  },
  {
   "cell_type": "code",
   "execution_count": 3,
   "id": "89268817-af14-49f0-a863-6d8bc3597171",
   "metadata": {},
   "outputs": [
    {
     "data": {
      "text/plain": [
       "[1, 2, 3, 4]"
      ]
     },
     "execution_count": 3,
     "metadata": {},
     "output_type": "execute_result"
    }
   ],
   "source": [
    "a.append(4)\n",
    "a"
   ]
  },
  {
   "cell_type": "code",
   "execution_count": 4,
   "id": "a44d87c5-0b58-4f47-b74f-29e14e4bbc82",
   "metadata": {},
   "outputs": [
    {
     "data": {
      "text/plain": [
       "[1, 2, 3, 4, 5]"
      ]
     },
     "execution_count": 4,
     "metadata": {},
     "output_type": "execute_result"
    }
   ],
   "source": [
    "# リストの結合なので、+リストとする\n",
    "a = a + [5]\n",
    "a"
   ]
  },
  {
   "cell_type": "code",
   "execution_count": 5,
   "id": "0ffed420-97f4-4094-b55d-b3364f6efecb",
   "metadata": {},
   "outputs": [
    {
     "ename": "TypeError",
     "evalue": "can only concatenate list (not \"int\") to list",
     "output_type": "error",
     "traceback": [
      "\u001b[0;31m---------------------------------------------------------------------------\u001b[0m",
      "\u001b[0;31mTypeError\u001b[0m                                 Traceback (most recent call last)",
      "Cell \u001b[0;32mIn[5], line 2\u001b[0m\n\u001b[1;32m      1\u001b[0m \u001b[38;5;66;03m# リストではないものを結合しようとするとエラーになる\u001b[39;00m\n\u001b[0;32m----> 2\u001b[0m a \u001b[38;5;241m=\u001b[39m \u001b[43ma\u001b[49m\u001b[43m \u001b[49m\u001b[38;5;241;43m+\u001b[39;49m\u001b[43m \u001b[49m\u001b[38;5;241;43m6\u001b[39;49m\n\u001b[1;32m      3\u001b[0m a\n",
      "\u001b[0;31mTypeError\u001b[0m: can only concatenate list (not \"int\") to list"
     ]
    }
   ],
   "source": [
    "# リストではないものを結合しようとするとエラーになる\n",
    "a = a + 6\n",
    "a"
   ]
  },
  {
   "cell_type": "markdown",
   "id": "8f910a04-4d5d-44a3-b39b-cec20fd36b2c",
   "metadata": {},
   "source": [
    "## リストから要素の取り出し\n",
    "要素の取り出しはpop()メソッドを使う\n",
    "- 引数なしだと末尾の要素を取り出す\n",
    "- 引数でインデックス指定すると、指定した要素が取り出せる\n",
    "- 取り出した要素はリストからなくなる"
   ]
  },
  {
   "cell_type": "code",
   "execution_count": null,
   "id": "b88f00e1-8d23-4918-8db2-43d192d5a1cb",
   "metadata": {},
   "outputs": [],
   "source": [
    "# 末尾の要素の取り出し\n",
    "print(a.pop())\n",
    "print(a)"
   ]
  },
  {
   "cell_type": "code",
   "execution_count": null,
   "id": "78cf724b-b5c5-4409-84d8-397c1f66349e",
   "metadata": {},
   "outputs": [],
   "source": [
    "# インデックスを指定して取り出し\n",
    "print(a.pop(0))\n",
    "print(a)"
   ]
  },
  {
   "cell_type": "markdown",
   "id": "ece27d58-17bc-4f6f-82d5-7b3aa8cef8bf",
   "metadata": {},
   "source": [
    "## リストの要素のアクセス\n",
    "インデックスをつけてアクセスする\n",
    "- 0オリジン\n",
    "- 範囲選択可能 (:2, 3:5)"
   ]
  },
  {
   "cell_type": "code",
   "execution_count": 6,
   "id": "e7457bd0-0c91-4d46-b026-6847f27645c0",
   "metadata": {},
   "outputs": [
    {
     "name": "stdout",
     "output_type": "stream",
     "text": [
      "2\n",
      "[1, 2]\n",
      "[3, 4, 5]\n",
      "[4]\n"
     ]
    }
   ],
   "source": [
    "b = [1, 2, 3, 4, 5]\n",
    "print(b[1])\n",
    "print(b[:2])\n",
    "print(b[2:])\n",
    "print(b[3:4])"
   ]
  }
 ],
 "metadata": {
  "kernelspec": {
   "display_name": "Python 3 (ipykernel)",
   "language": "python",
   "name": "python3"
  },
  "language_info": {
   "codemirror_mode": {
    "name": "ipython",
    "version": 3
   },
   "file_extension": ".py",
   "mimetype": "text/x-python",
   "name": "python",
   "nbconvert_exporter": "python",
   "pygments_lexer": "ipython3",
   "version": "3.9.0"
  }
 },
 "nbformat": 4,
 "nbformat_minor": 5
}
